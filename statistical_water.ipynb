{
 "cells": [
  {
   "cell_type": "code",
   "execution_count": 47,
   "metadata": {},
   "outputs": [],
   "source": [
    "from array import array\n",
    "import numpy as np\n",
    "import math\n",
    "import pandas as pd\n",
    "from matplotlib import *"
   ]
  },
  {
   "cell_type": "code",
   "execution_count": 3,
   "metadata": {},
   "outputs": [
    {
     "name": "stdout",
     "output_type": "stream",
     "text": [
      "allocating coordinates of water molecule in hydrates examples\n"
     ]
    }
   ],
   "source": [
    "print(\"allocating coordinates of water molecule in hydrates examples\")"
   ]
  },
  {
   "cell_type": "code",
   "execution_count": 30,
   "metadata": {},
   "outputs": [],
   "source": [
    "lines1=open(\"water.geom\").readlines()\n",
    "\n",
    "store = []\n",
    "for i in range(len(lines1)):\n",
    "    store.append(str(lines1[i].split()[1][0]))\n",
    "    store.append(float(lines1[i].split()[2]))\n",
    "    store.append(float(lines1[i].split()[3]))\n",
    "    store.append(float(lines1[i].split()[4]))\n",
    "# print(store)"
   ]
  },
  {
   "cell_type": "code",
   "execution_count": 31,
   "metadata": {},
   "outputs": [
    {
     "name": "stdout",
     "output_type": "stream",
     "text": [
      "103\n"
     ]
    }
   ],
   "source": [
    "num_water = int(len(store)/12)\n",
    "store_arr = X = np.array(store)\n",
    "print(num_water)\n",
    "np.shape(store_arr)\n",
    "reshape_store = np.reshape(store_arr,(num_water*3,4))\n",
    "\n",
    "df = pd.DataFrame(reshape_store)\n",
    "df.to_csv('output.csv', index=False, header=False)"
   ]
  },
  {
   "cell_type": "code",
   "execution_count": 57,
   "metadata": {},
   "outputs": [
    {
     "name": "stdout",
     "output_type": "stream",
     "text": [
      "bonds[angstroms] min mean max\n",
      "0.690375978090924\n",
      "0.8828773923370479\n",
      "1.11852486296014\n",
      "angles[*] min mean max\n",
      "95.60612147597172\n",
      "106.87787770412504\n",
      "122.46456268012835\n"
     ]
    }
   ],
   "source": [
    "bonds = []\n",
    "angles = []\n",
    "\n",
    "for i in range(num_water):\n",
    "    if (reshape_store[i*3][0][0] == 'O'):\n",
    "#         print(\"the first atom is O\")\n",
    "        o = np.array((float(reshape_store[i*3][1]), float(reshape_store[i*3][2]), float(reshape_store[i*3][3])))\n",
    "        h1 = np.array((float(reshape_store[i*3+1][1]), float(reshape_store[i*3+1][2]), float(reshape_store[i*3+1][3])))\n",
    "        h2 = np.array((float(reshape_store[i*3+2][1]), float(reshape_store[i*3+2][2]), float(reshape_store[i*3+2][3])))\n",
    "    elif (reshape_store[i*3][0][0] == 'H'):\n",
    "#         print(\"the first atom is H\")\n",
    "        h1 = np.array((float(reshape_store[i*3][1]), float(reshape_store[i*3][2]), float(reshape_store[i*3][3])))\n",
    "        h2 = np.array((float(reshape_store[i*3+1][1]), float(reshape_store[i*3+1][2]), float(reshape_store[i*3+1][3])))\n",
    "        o = np.array((float(reshape_store[i*3+2][1]), float(reshape_store[i*3+2][2]), float(reshape_store[i*3+2][3])))\n",
    "\n",
    "    bonds.append(np.linalg.norm(o-h1))\n",
    "    bonds.append(np.linalg.norm(o-h2))\n",
    "    oh1 = h1 - o\n",
    "    oh2 = h2 - o\n",
    "    cosine_angle = np.dot(oh1, oh2) / (np.linalg.norm(oh1) * np.linalg.norm(oh2))\n",
    "    angles.append(np.degrees(np.arccos(cosine_angle)))\n",
    "    \n",
    "print(\"bonds[angstroms] min mean max\")\n",
    "# print(bonds)\n",
    "print(np.amin(bonds))\n",
    "print(np.array(bonds).mean())\n",
    "print(np.amax(bonds))\n",
    "print(\"angles[*] min mean max\")\n",
    "# print(angles)\n",
    "print(np.amin(angles))\n",
    "print(np.array(angles).mean())\n",
    "print(np.amax(angles))"
   ]
  },
  {
   "cell_type": "code",
   "execution_count": 53,
   "metadata": {},
   "outputs": [
    {
     "data": {
      "image/png": "[encoded data removed]",
      "text/plain": [
       "<Figure size 432x288 with 1 Axes>"
      ]
     },
     "metadata": {
      "needs_background": "light"
     },
     "output_type": "display_data"
    }
   ],
   "source": [
    "df_bonds = pd.DataFrame(bonds)\n",
    "ax_bonds = df_bonds.plot.hist(bins=20, alpha=0.5)"
   ]
  },
  {
   "cell_type": "code",
   "execution_count": 50,
   "metadata": {},
   "outputs": [
    {
     "data": {
      "image/png": "[encoded data removed]",
      "text/plain": [
       "<Figure size 432x288 with 1 Axes>"
      ]
     },
     "metadata": {
      "needs_background": "light"
     },
     "output_type": "display_data"
    }
   ],
   "source": [
    "df_angles = pd.DataFrame(angles)\n",
    "ax_angles = df_angles.plot.hist(bins=20, alpha=0.5)"
   ]
  },
  {
   "cell_type": "code",
   "execution_count": null,
   "metadata": {},
   "outputs": [],
   "source": []
  }
 ],
 "metadata": {
  "kernelspec": {
   "display_name": "Python 3",
   "language": "python",
   "name": "python3"
  },
  "language_info": {
   "codemirror_mode": {
    "name": "ipython",
    "version": 3
   },
   "file_extension": ".py",
   "mimetype": "text/x-python",
   "name": "python",
   "nbconvert_exporter": "python",
   "pygments_lexer": "ipython3",
   "version": "3.7.3"
  }
 },
 "nbformat": 4,
 "nbformat_minor": 2
}
